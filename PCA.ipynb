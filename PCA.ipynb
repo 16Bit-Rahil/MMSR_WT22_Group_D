{
 "cells": [
  {
   "cell_type": "code",
   "execution_count": 1,
   "id": "479e8179",
   "metadata": {},
   "outputs": [],
   "source": [
    "import numpy as np\n",
    "import pandas as pd\n",
    "import pickle\n",
    "import matplotlib.pyplot as plt\n",
    "import re\n",
    "import gc"
   ]
  },
  {
   "cell_type": "code",
   "execution_count": 2,
   "id": "2c6cb68c",
   "metadata": {},
   "outputs": [],
   "source": [
    "path = '/media/sebastian/Seagate Backup Plus Drive/MMSR/task2/'  # change path accordingly"
   ]
  },
  {
   "cell_type": "markdown",
   "id": "391f5b86",
   "metadata": {},
   "source": [
    "Uncomment the feature you want to downproject and run the notebook"
   ]
  },
  {
   "cell_type": "code",
   "execution_count": 3,
   "id": "396a8cc2",
   "metadata": {},
   "outputs": [],
   "source": [
    "#id_information = pd.read_csv(path + 'id_information_mmsr.tsv', sep='\\t')\n",
    "#id_genres = pd.read_csv(path + 'id_genres_mmsr.tsv', sep='\\t')\n",
    "id_bert = pd.read_csv(path + 'id_lyrics_bert_mmsr.tsv', sep='\\t')\n",
    "#id_lyrics_tfidf = pd.read_csv(path + 'id_lyrics_tf-idf_mmsr.tsv', sep='\\t')\n",
    "#id_lyrics_word2vec = pd.read_csv(path + 'id_lyrics_word2vec_mmsr.tsv', sep='\\t')\n",
    "#id_blf_correlation = pd.read_csv(path + 'id_blf_correlation_mmsr.tsv', sep='\\t')\n",
    "#id_blf_deltaspectral = pd.read_csv(path + 'id_blf_deltaspectral_mmsr.tsv', sep='\\t')\n",
    "#id_blf_logfluc = pd.read_csv(path + 'id_blf_logfluc_mmsr.tsv', sep='\\t')\n",
    "#id_blf_spectralcontrast = pd.read_csv(path + 'id_blf_spectralcontrast_mmsr.tsv', sep='\\t')\n",
    "#id_blf_spectral = pd.read_csv(path + 'id_blf_spectral_mmsr.tsv', sep='\\t')\n",
    "#id_blf_vardeltaspectral = pd.read_csv(path + 'id_blf_vardeltaspectral_mmsr.tsv', sep='\\t')\n",
    "#id_essentia = pd.read_csv(path + 'id_essentia_mmsr.tsv', sep='\\t')\n",
    "#id_incp = pd.read_csv(path + 'id_incp_mmsr.tsv', sep='\\t')\n",
    "#id_mfcc_bow = pd.read_csv(path + 'id_mfcc_bow_mmsr.tsv', sep='\\t')\n",
    "#id_mfcc_stats = pd.read_csv(path + 'id_mfcc_stats_mmsr.tsv', sep='\\t')\n",
    "#id_resnet = pd.read_csv(path + 'id_resnet_mmsr.tsv', sep='\\t')\n",
    "#id_vgg19 = pd.read_csv(path + 'id_vgg19_mmsr.tsv', sep='\\t')"
   ]
  },
  {
   "cell_type": "markdown",
   "id": "88be2f4c",
   "metadata": {},
   "source": [
    "In case of id_blf_loglfluc we have to drop the last column as it only contains NaN values."
   ]
  },
  {
   "cell_type": "code",
   "execution_count": 4,
   "id": "050d93c3",
   "metadata": {},
   "outputs": [],
   "source": [
    "#id_blf_logfluc = id_blf_logfluc.drop(['BLF_LOGFLUC3625'], axis=1)"
   ]
  },
  {
   "cell_type": "markdown",
   "id": "180764dd",
   "metadata": {},
   "source": [
    "We decided to apply pca to our dataset as we have huge files and it would be unreasonable to work with them in their current state."
   ]
  },
  {
   "cell_type": "code",
   "execution_count": 7,
   "id": "b2a06fef",
   "metadata": {},
   "outputs": [],
   "source": [
    "from sklearn.decomposition import PCA\n",
    "\n",
    "def apply_pca(data_feat):\n",
    "    pca = PCA(n_components = 0.85)  # we want more than 0.85 of variance to be explained by the data\n",
    "    data_feat_id = data_feat.copy()['id']\n",
    "    data_without_id = data_feat.drop(['id'] , axis=1)\n",
    "    data_pca = pca.fit_transform(data_without_id)\n",
    "    data_pca = pd.DataFrame(data_pca)\n",
    "    data_pca.insert(0, 'id', data_feat_id)\n",
    "    return data_pca"
   ]
  },
  {
   "cell_type": "code",
   "execution_count": 8,
   "id": "6cfdd5a6",
   "metadata": {},
   "outputs": [],
   "source": [
    "apply_pca(id_bert).to_csv(path + f'id_bert_pca.tsv', sep='\\t', index = False)  # change feature accordingly"
   ]
  },
  {
   "cell_type": "code",
   "execution_count": null,
   "id": "5d349cd5",
   "metadata": {},
   "outputs": [],
   "source": [
    "# uncomment the following lines in case you have storage problems\n",
    "# del id_bert\n",
    "# gc.collect()"
   ]
  },
  {
   "cell_type": "code",
   "execution_count": null,
   "id": "b52b092e",
   "metadata": {},
   "outputs": [],
   "source": []
  }
 ],
 "metadata": {
  "kernelspec": {
   "display_name": "Python 3",
   "language": "python",
   "name": "python3"
  },
  "language_info": {
   "codemirror_mode": {
    "name": "ipython",
    "version": 3
   },
   "file_extension": ".py",
   "mimetype": "text/x-python",
   "name": "python",
   "nbconvert_exporter": "python",
   "pygments_lexer": "ipython3",
   "version": "3.9.13"
  }
 },
 "nbformat": 4,
 "nbformat_minor": 5
}
