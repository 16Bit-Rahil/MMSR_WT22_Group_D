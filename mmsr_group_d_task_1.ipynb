{
 "cells": [
  {
   "cell_type": "code",
   "execution_count": 1,
   "id": "5e6b6cc2",
   "metadata": {},
   "outputs": [],
   "source": [
    "import pandas as pd\n",
    "import numpy as np\n",
    "from sklearn.metrics.pairwise import cosine_similarity"
   ]
  },
  {
   "cell_type": "code",
   "execution_count": 2,
   "id": "d32aa8b3",
   "metadata": {},
   "outputs": [],
   "source": [
    "id_information = pd.read_csv('id_information_mmsr.tsv', sep='\\t')\n",
    "id_genres = pd.read_csv('id_genres_mmsr.tsv', sep='\\t')\n",
    "id_bert = pd.read_csv('id_bert_mmsr.tsv', sep='\\t')\n",
    "id_lyrics_tfidf = pd.read_csv('id_lyrics_tf-idf_mmsr.tsv', sep='\\t')\n",
    "id_lyrics_word2vec = pd.read_csv('id_lyrics_word2vec_mmsr.tsv', sep='\\t')"
   ]
  },
  {
   "cell_type": "code",
   "execution_count": null,
   "id": "1921b1e7",
   "metadata": {},
   "outputs": [],
   "source": [
    "id_lyrics_tfidf['id']"
   ]
  },
  {
   "cell_type": "code",
   "execution_count": null,
   "id": "b9c4db19",
   "metadata": {},
   "outputs": [],
   "source": [
    "artist = 'Dua Lipa'\n",
    "song_query = 'New Rules (Initial Talk Remix)'\n",
    "song = id_information.loc[(id_information['artist']==artist)&(id_information['song']==song_query)]"
   ]
  },
  {
   "cell_type": "code",
   "execution_count": null,
   "id": "f6dfa77e",
   "metadata": {},
   "outputs": [],
   "source": [
    "query_id = song.iloc[0]['id']"
   ]
  },
  {
   "cell_type": "code",
   "execution_count": null,
   "id": "19ec6e71",
   "metadata": {},
   "outputs": [],
   "source": [
    "tfidf_query = id_lyrics_tfidf.loc[id_lyrics_tfidf['id']==song.iloc[0]['id']]\n",
    "tfidf_query = np.array(tfidf_query.drop(columns=['id']))"
   ]
  },
  {
   "cell_type": "code",
   "execution_count": null,
   "id": "f59b3617",
   "metadata": {},
   "outputs": [],
   "source": [
    "tfidf_subset = id_lyrics_tfidf#.head(10000)\n",
    "tfidf_subset"
   ]
  },
  {
   "cell_type": "code",
   "execution_count": null,
   "id": "40f01356",
   "metadata": {},
   "outputs": [],
   "source": [
    "#def cosine_similarity(x,y):\n",
    "#    return np.dot(x, y)/(np.linalg.norm(x)*np.linalg.norm(y))"
   ]
  },
  {
   "cell_type": "code",
   "execution_count": null,
   "id": "0cfce233",
   "metadata": {},
   "outputs": [],
   "source": [
    "subset_ids = tfidf_subset[['id']].copy()\n",
    "subset_ids"
   ]
  },
  {
   "cell_type": "code",
   "execution_count": null,
   "id": "ef596ec6",
   "metadata": {},
   "outputs": [],
   "source": [
    "tfidf_no_id = np.array(tfidf_subset.drop(columns=['id']))\n",
    "cosine = cosine_similarity(tfidf_query, tfidf_no_id)\n",
    "subset_ids.insert(1,'cosine', cosine[0])\n",
    "subset_ids"
   ]
  },
  {
   "cell_type": "code",
   "execution_count": null,
   "id": "776e47a8",
   "metadata": {},
   "outputs": [],
   "source": [
    "subset_ids= subset_ids.sort_values('cosine', ascending=False)"
   ]
  },
  {
   "cell_type": "code",
   "execution_count": null,
   "id": "7691429d",
   "metadata": {},
   "outputs": [],
   "source": [
    "sorted_cosine = subset_ids.iloc[0: , :]\n",
    "sorted_cosine"
   ]
  },
  {
   "cell_type": "code",
   "execution_count": null,
   "id": "b72e3811",
   "metadata": {
    "scrolled": true
   },
   "outputs": [],
   "source": [
    "top_10 = sorted_cosine.head(10)\n",
    "top_10"
   ]
  },
  {
   "cell_type": "code",
   "execution_count": null,
   "id": "d0df4758",
   "metadata": {},
   "outputs": [],
   "source": [
    "top_10_ids = np.array(top_10['id'])"
   ]
  },
  {
   "cell_type": "code",
   "execution_count": null,
   "id": "745880f7",
   "metadata": {},
   "outputs": [],
   "source": [
    "for idx in top_10_ids:\n",
    "    print(id_information.loc[(id_information['id'] == idx)][['artist', 'song']])"
   ]
  },
  {
   "cell_type": "code",
   "execution_count": null,
   "id": "29b9746c",
   "metadata": {},
   "outputs": [],
   "source": [
    "top_10_meta = id_information.loc[id_information['id'].isin(top_10_ids)]  # not ordered"
   ]
  },
  {
   "cell_type": "code",
   "execution_count": null,
   "id": "406bfbf3",
   "metadata": {},
   "outputs": [],
   "source": [
    "query_genre = id_genres.loc[id_genres['id']==query_id]['genre']\n",
    "query_genre"
   ]
  },
  {
   "cell_type": "code",
   "execution_count": null,
   "id": "6512409a",
   "metadata": {},
   "outputs": [],
   "source": [
    "def get_genre(song_id):\n",
    "    genres = id_genres.loc[id_genres['id']==song_id]['genre'].tolist()[0]\n",
    "    return genres"
   ]
  },
  {
   "cell_type": "code",
   "execution_count": null,
   "id": "786c761d",
   "metadata": {},
   "outputs": [],
   "source": [
    "def string_to_list(string):\n",
    "    lst = string[1:-1].split(', ')\n",
    "    return lst"
   ]
  },
  {
   "cell_type": "code",
   "execution_count": null,
   "id": "4b2ab97e",
   "metadata": {},
   "outputs": [],
   "source": [
    "query_genre = get_genre(query_id)\n",
    "print(query_genre)\n",
    "query_genre = string_to_list(query_genre)"
   ]
  },
  {
   "cell_type": "code",
   "execution_count": null,
   "id": "0deb5ef8",
   "metadata": {},
   "outputs": [],
   "source": [
    "\n",
    "tp = 0\n",
    "for idx in top_10_ids:\n",
    "    genres = get_genre(idx)\n",
    "    genre_lst = string_to_list(genres)[0]\n",
    "    if any(item in query_genre[0] for item in genre_lst):\n",
    "        tp += 1\n",
    "\n",
    "precision = tp/len(top_10_ids)\n",
    "print(precision)"
   ]
  },
  {
   "cell_type": "code",
   "execution_count": 3,
   "id": "0aa4fad0",
   "metadata": {},
   "outputs": [],
   "source": [
    "def get_genre(song_id):\n",
    "    genres = id_genres.loc[id_genres['id']==song_id]['genre'].tolist()[0]\n",
    "    return genres\n",
    "\n",
    "def string_to_list(string):\n",
    "    lst = string[1:-1].split(', ')\n",
    "    return lst\n",
    "\n",
    "def get_top_k(artist, song_query, k:int):\n",
    "    song = id_information.loc[(id_information['artist']==artist)&(id_information['song']==song_query)]\n",
    "    query_id = song.iloc[0]['id']\n",
    "    tfidf_query = id_lyrics_tfidf.loc[id_lyrics_tfidf['id']==song.iloc[0]['id']]\n",
    "    tfidf_query = np.array(tfidf_query.drop(columns=['id']))\n",
    "    tfidf_ids = id_lyrics_tfidf[['id']].copy()\n",
    "    tfidf_no_id = np.array(id_lyrics_tfidf.copy().drop(columns=['id']))\n",
    "    cosine = cosine_similarity(tfidf_query, tfidf_no_id)\n",
    "    tfidf_ids.insert(1,'cosine', cosine[0])\n",
    "    tfidf_ids= tfidf_ids.sort_values('cosine', ascending=False)\n",
    "    sorted_cosine = tfidf_ids.iloc[1: , :]\n",
    "    top_k = sorted_cosine.head(k)\n",
    "    top_k_ids = np.array(top_k['id'])\n",
    "    query_genre = get_genre(query_id)\n",
    "    query_genre = string_to_list(query_genre)\n",
    "    \n",
    "    tp = 0\n",
    "    for idx in top_k_ids:\n",
    "        genres = get_genre(idx)\n",
    "        genre_lst = string_to_list(genres)[0]\n",
    "        if any(item in query_genre[0] for item in genre_lst):\n",
    "            tp += 1\n",
    "    precision = tp/len(top_k_ids)  # somethings wrong\n",
    "    \n",
    "    for idx in top_k_ids:\n",
    "        print(id_information.loc[(id_information['id'] == idx)][['artist', 'song']])\n",
    "    \n",
    "    return precision"
   ]
  },
  {
   "cell_type": "code",
   "execution_count": 4,
   "id": "8eef68d4",
   "metadata": {},
   "outputs": [
    {
     "name": "stdout",
     "output_type": "stream",
     "text": [
      "         artist                            song\n",
      "58942  Dua Lipa  New Rules - Initial Talk Remix\n",
      "         artist       song\n",
      "52034  Dua Lipa  New Rules\n",
      "              artist                           song\n",
      "39323  Lenny Kravitz  Let Love Rule (Justice Remix)\n",
      "        artist song\n",
      "42582  J. Cole  ATM\n",
      "                   artist         song\n",
      "50654  Jefferson Starship  Count on Me\n",
      "                artist         song\n",
      "17479  Whitney Houston  Count On Me\n",
      "          artist         song\n",
      "2424  Bruno Mars  Count on Me\n",
      "        artist      song\n",
      "44737  Ramones  Commando\n",
      "     artist    song\n",
      "2019   Kllo  Virtue\n",
      "                  artist                           song\n",
      "73725  The Dandy Warhols  Every Day Should Be A Holiday\n",
      "1.0\n"
     ]
    }
   ],
   "source": [
    "print(get_top_k('Dua Lipa', 'New Rules (Initial Talk Remix)', 10))"
   ]
  },
  {
   "cell_type": "code",
   "execution_count": null,
   "id": "07961474",
   "metadata": {},
   "outputs": [],
   "source": []
  }
 ],
 "metadata": {
  "kernelspec": {
   "display_name": "Python 3",
   "language": "python",
   "name": "python3"
  },
  "language_info": {
   "codemirror_mode": {
    "name": "ipython",
    "version": 3
   },
   "file_extension": ".py",
   "mimetype": "text/x-python",
   "name": "python",
   "nbconvert_exporter": "python",
   "pygments_lexer": "ipython3",
   "version": "3.9.7"
  }
 },
 "nbformat": 4,
 "nbformat_minor": 5
}
