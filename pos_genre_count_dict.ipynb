{
 "cells": [
  {
   "cell_type": "code",
   "execution_count": 1,
   "id": "69da9036",
   "metadata": {},
   "outputs": [],
   "source": [
    "import numpy as np\n",
    "import re\n",
    "import pandas as pd\n",
    "import pickle\n",
    "from tqdm import tqdm"
   ]
  },
  {
   "cell_type": "code",
   "execution_count": null,
   "id": "7e81a8a6",
   "metadata": {},
   "outputs": [],
   "source": [
    "id_genres = pd.read_csv('/media/sebastian/Seagate Backup Plus Drive/MMSR/task2/id_genres_mmsr.tsv', sep='\\t')\n",
    "#id_information = pd.read_csv('id_information_mmsr.tsv', sep='\\t')\n",
    "#id_bert = pd.read_csv('id_bert_mmsr.tsv', sep='\\t')\n",
    "#id_lyrics_tfidf = pd.read_csv('id_lyrics_tf-idf_mmsr.tsv', sep='\\t')\n",
    "#id_lyrics_word2vec = pd.read_csv('id_lyrics_word2vec_mmsr.tsv', sep='\\t')\n",
    "genres_subset = id_genres#.head(100)"
   ]
  },
  {
   "cell_type": "code",
   "execution_count": null,
   "id": "10c3b474",
   "metadata": {},
   "outputs": [],
   "source": [
    "\n",
    "genres_list = []\n",
    "\n",
    "\n",
    "for u in genres_subset['genre']:\n",
    "    x = re.sub(r\"[^a-zA-Z0-9, ]\", \"\", u)\n",
    "    y = x.split(\",\")\n",
    "    for i in y:\n",
    "        if i[0] == \" \":\n",
    "            j = i[1:]\n",
    "            genres_list.append(j)\n",
    "        else:\n",
    "            genres_list.append(i)\n",
    "\n",
    "            \n",
    "\n",
    "genres_list"
   ]
  },
  {
   "cell_type": "code",
   "execution_count": null,
   "id": "40200065",
   "metadata": {},
   "outputs": [],
   "source": [
    "unique_genre_list = set(genres_list)\n",
    "\n",
    "genresDF = pd.DataFrame(unique_genre_list)\n",
    "counts = []\n",
    "\n",
    "print(genresDF)\n",
    "\n",
    "print(len(unique_genre_list))\n",
    "for i in unique_genre_list:\n",
    "    counts.append(genres_list.count(i))\n",
    "\n",
    "genresDF['count'] = counts\n",
    "print(genresDF)"
   ]
  },
  {
   "cell_type": "code",
   "execution_count": null,
   "id": "f27261e7",
   "metadata": {},
   "outputs": [],
   "source": [
    "sortedGenDF = genresDF.sort_values('count', ascending=False)"
   ]
  },
  {
   "cell_type": "code",
   "execution_count": null,
   "id": "a17c4216",
   "metadata": {},
   "outputs": [],
   "source": [
    "sortedGenDF.to_csv('genre_count.tsv', sep='\\t', index=False)"
   ]
  },
  {
   "cell_type": "code",
   "execution_count": null,
   "id": "fd9691a3",
   "metadata": {},
   "outputs": [],
   "source": [
    "with open('genre_dictionary.pkl', 'rb') as f:\n",
    "        genre_dict = pickle.load(f)\n",
    "genre_count = pd.read_csv('genre_count.tsv', sep='\\t')"
   ]
  },
  {
   "cell_type": "code",
   "execution_count": null,
   "id": "dcd7cf48",
   "metadata": {},
   "outputs": [],
   "source": [
    "top_dict = {}\n",
    "for idx in tqdm(genre_dict):\n",
    "    genres = genre_dict[idx]\n",
    "    top_pos = genre_count.loc[genre_count['0']==genres[0]]['count'].to_numpy()[0]\n",
    "    for gen in genres:\n",
    "        gen_count = genre_count.loc[genre_count['0']==gen]['count'].to_numpy()[0]\n",
    "        if gen_count > top_pos:\n",
    "            top_pos = gen_count\n",
    "    # print(True if top_pos > 100 else False)\n",
    "    top_dict[idx] = top_pos"
   ]
  },
  {
   "cell_type": "code",
   "execution_count": null,
   "id": "86e465ef",
   "metadata": {},
   "outputs": [],
   "source": [
    "with open('genre_count_dict.pkl', 'wb') as f:\n",
    "    pickle.dump(top_dict, f)"
   ]
  }
 ],
 "metadata": {
  "kernelspec": {
   "display_name": "Python 3",
   "language": "python",
   "name": "python3"
  },
  "language_info": {
   "codemirror_mode": {
    "name": "ipython",
    "version": 3
   },
   "file_extension": ".py",
   "mimetype": "text/x-python",
   "name": "python",
   "nbconvert_exporter": "python",
   "pygments_lexer": "ipython3",
   "version": "3.9.13"
  }
 },
 "nbformat": 4,
 "nbformat_minor": 5
}
