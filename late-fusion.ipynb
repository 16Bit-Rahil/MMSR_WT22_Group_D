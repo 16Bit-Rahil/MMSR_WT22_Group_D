{
 "cells": [
  {
   "cell_type": "code",
   "execution_count": 2,
   "id": "a1a3ba25",
   "metadata": {},
   "outputs": [],
   "source": [
    "import pandas as pd\n",
    "import numpy as np\n",
    "from tqdm import tqdm\n",
    "import pickle\n",
    "import os\n",
    "import glob"
   ]
  },
  {
   "cell_type": "code",
   "execution_count": 1,
   "id": "a1730479",
   "metadata": {},
   "outputs": [],
   "source": [
    "measure = 'retrieved_ids/cosine'"
   ]
  },
  {
   "cell_type": "code",
   "execution_count": 7,
   "id": "50795f7a",
   "metadata": {},
   "outputs": [],
   "source": [
    "path = '/media/sebastian/Seagate Backup Plus Drive/MMSR/task2/'\n",
    "id_information = pd.read_csv(path + 'id_information_mmsr.tsv', sep='\\t')"
   ]
  },
  {
   "cell_type": "code",
   "execution_count": 3,
   "id": "fc26e236",
   "metadata": {},
   "outputs": [
    {
     "name": "stdout",
     "output_type": "stream",
     "text": [
      "['mfcc_bow_cosine_retrieved_ids.pkl', 'resnet_cosine_retrieved_ids.pkl']\n"
     ]
    }
   ],
   "source": [
    "file_list = []\n",
    "for file in os.listdir(\"./retrieved_ids/combinations\"):\n",
    "    if file.endswith(\".pkl\"):\n",
    "        file_list.append(file)\n",
    "    \n",
    "print(file_list)"
   ]
  },
  {
   "cell_type": "code",
   "execution_count": 4,
   "id": "c1181d43",
   "metadata": {},
   "outputs": [],
   "source": [
    "dict_dict = {}\n",
    "for file in file_list:\n",
    "    with open('./retrieved_ids/combinations/' + file, 'rb') as f:\n",
    "        retrieved_dict = pickle.load(f)\n",
    "        dict_dict[file] = retrieved_dict"
   ]
  },
  {
   "cell_type": "markdown",
   "id": "d1efd2ec",
   "metadata": {},
   "source": [
    "Different weights for different featrues, adapt accordingly"
   ]
  },
  {
   "cell_type": "code",
   "execution_count": 17,
   "id": "d9b3cfaf",
   "metadata": {},
   "outputs": [],
   "source": [
    "weights = [0.603, 0.548, 0.606, 0.593, 0.501]"
   ]
  },
  {
   "cell_type": "code",
   "execution_count": 36,
   "id": "4ebaf669",
   "metadata": {},
   "outputs": [],
   "source": [
    "weights = [0.538, 0.543, 0.566, 0.578, 0.539]"
   ]
  },
  {
   "cell_type": "code",
   "execution_count": 127,
   "id": "c1d4f5e2",
   "metadata": {},
   "outputs": [],
   "source": [
    "weights = [0.603, 0.574, 0.606]"
   ]
  },
  {
   "cell_type": "code",
   "execution_count": 115,
   "id": "971a0138",
   "metadata": {},
   "outputs": [],
   "source": [
    "weights = [0.593, 0.564, 0.577]"
   ]
  },
  {
   "cell_type": "code",
   "execution_count": 92,
   "id": "8296cd0e",
   "metadata": {},
   "outputs": [],
   "source": [
    "weights = [0.603, 0.538, 0.548, 0.543, 0.606, 0.566, 0.578, 0.539, 0.593, 0.501]"
   ]
  },
  {
   "cell_type": "code",
   "execution_count": 128,
   "id": "d37a1eff",
   "metadata": {},
   "outputs": [],
   "source": [
    "def normal(x):\n",
    "    return (x-0.494)/(0.606 - 0.494)"
   ]
  },
  {
   "cell_type": "code",
   "execution_count": 129,
   "id": "d54e5e6c",
   "metadata": {},
   "outputs": [
    {
     "name": "stdout",
     "output_type": "stream",
     "text": [
      "0.9732142857142857\n",
      "0.714285714285714\n",
      "1.0\n"
     ]
    }
   ],
   "source": [
    "nor_weight = []\n",
    "for x in weights:\n",
    "    print(normal(x))\n",
    "    nor_weight.append(normal(x))"
   ]
  },
  {
   "cell_type": "code",
   "execution_count": 8,
   "id": "def07a28",
   "metadata": {},
   "outputs": [
    {
     "name": "stderr",
     "output_type": "stream",
     "text": [
      "100%|██████████████████████████████████| 68641/68641 [00:04<00:00, 16137.14it/s]\n"
     ]
    }
   ],
   "source": [
    "borda_dict = {}\n",
    "for song in tqdm(id_information['id']):\n",
    "    vote_dict = {}\n",
    "    for idc, method in enumerate(file_list): #[1:]:\n",
    "        for vote, idx in enumerate(dict_dict[method][song]):\n",
    "            if idx in vote_dict:\n",
    "                vote_dict[idx] += nor_weight[idc]*(100-vote)\n",
    "            else:\n",
    "                vote_dict[idx] = nor_weight[idc]*(100-vote)\n",
    "    borda_dict[song] = vote_dict"
   ]
  },
  {
   "cell_type": "code",
   "execution_count": 11,
   "id": "5590655f",
   "metadata": {},
   "outputs": [
    {
     "name": "stderr",
     "output_type": "stream",
     "text": [
      "100%|███████████████████████████████████| 68641/68641 [00:33<00:00, 2044.78it/s]\n"
     ]
    }
   ],
   "source": [
    "new_dict = {}\n",
    "for song in tqdm(id_information['id']):\n",
    "    borda_df = pd.DataFrame.from_dict(borda_dict[song], orient='index', columns=['counts'])\n",
    "    borda_df = borda_df.sort_values('counts', ascending=False)\n",
    "    new_list = list(borda_df.index.values)[:100]\n",
    "    new_dict[song] = new_list"
   ]
  },
  {
   "cell_type": "code",
   "execution_count": 12,
   "id": "5dfbbc78",
   "metadata": {},
   "outputs": [],
   "source": [
    "with open('simple_borda_best.pkl', 'wb') as f:\n",
    "    pickle.dump(new_dict, f)"
   ]
  },
  {
   "cell_type": "code",
   "execution_count": 139,
   "id": "7beabd7f",
   "metadata": {},
   "outputs": [],
   "source": [
    "simple_borda_df = pd.DataFrame.from_dict(new_dict, orient='index')"
   ]
  },
  {
   "cell_type": "code",
   "execution_count": 11,
   "id": "fa88a978",
   "metadata": {},
   "outputs": [],
   "source": [
    "simple_borda_df.to_csv('simple_borda.tsv', sep='\\t')"
   ]
  },
  {
   "cell_type": "code",
   "execution_count": 140,
   "id": "7011818f",
   "metadata": {},
   "outputs": [],
   "source": [
    "simple_borda_df.to_csv('weighted_borda_10.csv', sep=',')"
   ]
  },
  {
   "cell_type": "code",
   "execution_count": null,
   "id": "fbb56c70",
   "metadata": {},
   "outputs": [],
   "source": []
  }
 ],
 "metadata": {
  "kernelspec": {
   "display_name": "Python 3",
   "language": "python",
   "name": "python3"
  },
  "language_info": {
   "codemirror_mode": {
    "name": "ipython",
    "version": 3
   },
   "file_extension": ".py",
   "mimetype": "text/x-python",
   "name": "python",
   "nbconvert_exporter": "python",
   "pygments_lexer": "ipython3",
   "version": "3.9.13"
  }
 },
 "nbformat": 4,
 "nbformat_minor": 5
}
