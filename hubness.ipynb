{
 "cells": [
  {
   "cell_type": "code",
   "execution_count": 1,
   "id": "c4cc7d77",
   "metadata": {},
   "outputs": [],
   "source": [
    "import pandas as pd\n",
    "import numpy as np\n",
    "from tqdm import tqdm\n",
    "import pickle\n",
    "import matplotlib.pyplot as plt"
   ]
  },
  {
   "cell_type": "code",
   "execution_count": 2,
   "id": "cecd2432",
   "metadata": {},
   "outputs": [],
   "source": [
    "def hubness(k, retrieval_path):\n",
    "    with open(retrieval_path, 'rb') as f:\n",
    "        retrieved_dict = pickle.load(f)\n",
    "    \n",
    "    k_occ_dict = {}\n",
    "    for idx in tqdm(retrieved_dict):\n",
    "        for idy in retrieved_dict[idx][:k]:\n",
    "            if not idy in k_occ_dict:\n",
    "                k_occ_dict[idy] = 1\n",
    "            else:\n",
    "                k_occ_dict[idy] += 1\n",
    "    \n",
    "    summ = 0\n",
    "    for idx in k_occ_dict:\n",
    "        summ += k_occ_dict[idx]\n",
    "    k_mean = summ/len(k_occ_dict)\n",
    "    k_sum = 0\n",
    "    for i in k_occ_dict:\n",
    "        k_sum += (k_occ_dict[i] - k_mean)**3\n",
    "    std_sum = 0\n",
    "    for i in k_occ_dict:\n",
    "        k_sum += (k_occ_dict[i] - k_mean)**2\n",
    "    std = np.sqrt(k_sum/len(k_occ_dict))\n",
    "    s_k = k_sum/(std**3)\n",
    "    return(s_k)"
   ]
  },
  {
   "cell_type": "code",
   "execution_count": 8,
   "id": "1abf020a",
   "metadata": {},
   "outputs": [],
   "source": [
    "#retrieval_path = 'retrieved_ids/cosine_retrieved_ids.pkl'\n",
    "retrieval_path = 'current_best/weighted_borda_best.pkl'\n",
    "\n",
    "with open(retrieval_path, 'rb') as f:\n",
    "    retrieved_dict = pickle.load(f)"
   ]
  },
  {
   "cell_type": "code",
   "execution_count": 9,
   "id": "fbf65c78",
   "metadata": {},
   "outputs": [],
   "source": [
    "k = 10"
   ]
  },
  {
   "cell_type": "code",
   "execution_count": 10,
   "id": "94559421",
   "metadata": {},
   "outputs": [
    {
     "name": "stderr",
     "output_type": "stream",
     "text": [
      "100%|█████████████████████████████████| 68641/68641 [00:00<00:00, 386045.07it/s]"
     ]
    },
    {
     "name": "stdout",
     "output_type": "stream",
     "text": [
      "1876.3622158954283\n"
     ]
    },
    {
     "name": "stderr",
     "output_type": "stream",
     "text": [
      "\n"
     ]
    }
   ],
   "source": [
    "print(hubness(k, retrieval_path))"
   ]
  },
  {
   "cell_type": "code",
   "execution_count": null,
   "id": "8a0da97d",
   "metadata": {},
   "outputs": [],
   "source": []
  }
 ],
 "metadata": {
  "kernelspec": {
   "display_name": "Python 3",
   "language": "python",
   "name": "python3"
  },
  "language_info": {
   "codemirror_mode": {
    "name": "ipython",
    "version": 3
   },
   "file_extension": ".py",
   "mimetype": "text/x-python",
   "name": "python",
   "nbconvert_exporter": "python",
   "pygments_lexer": "ipython3",
   "version": "3.9.13"
  }
 },
 "nbformat": 4,
 "nbformat_minor": 5
}
