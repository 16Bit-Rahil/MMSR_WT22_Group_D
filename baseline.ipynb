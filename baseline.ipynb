{
 "cells": [
  {
   "cell_type": "code",
   "execution_count": 15,
   "id": "4f8c401a",
   "metadata": {},
   "outputs": [],
   "source": [
    "import numpy as np\n",
    "import pandas as pd\n",
    "import pickle\n",
    "from tqdm import tqdm"
   ]
  },
  {
   "cell_type": "markdown",
   "id": "d2d4f9a0",
   "metadata": {},
   "source": [
    "For the basine we randomly choose songs with rock as a genre and give it back for every recommendation, this way we get the metrics for always predicting the most frequent genre."
   ]
  },
  {
   "cell_type": "code",
   "execution_count": 4,
   "id": "8745f416",
   "metadata": {},
   "outputs": [],
   "source": [
    "path = '/media/sebastian/Seagate Backup Plus Drive/MMSR/task2/'\n",
    "id_information = pd.read_csv(path + 'id_information_mmsr.tsv', sep='\\t')\n",
    "with open('genre_dictionary.pkl', 'rb') as f:\n",
    "    genre_dict = pickle.load(f)"
   ]
  },
  {
   "cell_type": "code",
   "execution_count": 7,
   "id": "ce3aa1b9",
   "metadata": {},
   "outputs": [],
   "source": [
    "rock_songs = []\n",
    "for song in genre_dict:\n",
    "    if ('rock' in genre_dict[song]):\n",
    "        rock_songs.append(song)"
   ]
  },
  {
   "cell_type": "code",
   "execution_count": 12,
   "id": "21d85168",
   "metadata": {},
   "outputs": [],
   "source": [
    "rock_songs = []\n",
    "for song in genre_dict:\n",
    "    if genre_dict[song] == ['rock']:\n",
    "        rock_songs.append(song)"
   ]
  },
  {
   "cell_type": "code",
   "execution_count": 16,
   "id": "51785490",
   "metadata": {},
   "outputs": [
    {
     "name": "stderr",
     "output_type": "stream",
     "text": [
      "100%|██████████████████████████████████| 68641/68641 [00:05<00:00, 12342.04it/s]\n"
     ]
    }
   ],
   "source": [
    "baseline_dict = {}\n",
    "for idx in tqdm(id_information['id']):\n",
    "    baseline_dict[idx] = np.random.choice(rock_songs, 100)"
   ]
  },
  {
   "cell_type": "code",
   "execution_count": 17,
   "id": "03e33295",
   "metadata": {},
   "outputs": [],
   "source": [
    "with open(path + 'baseline' + '_retrieved_ids.pkl', 'wb') as f:\n",
    "    pickle.dump(baseline_dict, f)"
   ]
  },
  {
   "cell_type": "code",
   "execution_count": 18,
   "id": "e1aa532b",
   "metadata": {},
   "outputs": [
    {
     "name": "stdout",
     "output_type": "stream",
     "text": [
      "Path of [measure]_retrieved_ids.pkl file to be evaluated: /media/sebastian/Seagate Backup Plus Drive/MMSR/task2/baseline_retrieved_ids.pkl\n",
      "Precision@10 = 0.4940487463760726 \n",
      "MRR@10 = 0.4940487463760726 \n",
      "nDCG@10 = 0.4940487463760726\n",
      "Precision@100 = 0.4940487463760726 \n",
      "MRR@100 = 0.4940487463760726 \n",
      "nDCG@100 = 0.4940487463760726\n"
     ]
    }
   ],
   "source": [
    "import evaluation"
   ]
  },
  {
   "cell_type": "code",
   "execution_count": 16,
   "id": "7ef56962",
   "metadata": {},
   "outputs": [],
   "source": []
  },
  {
   "cell_type": "code",
   "execution_count": null,
   "id": "ed6420a1",
   "metadata": {},
   "outputs": [],
   "source": []
  },
  {
   "cell_type": "code",
   "execution_count": null,
   "id": "b60f985c",
   "metadata": {},
   "outputs": [],
   "source": []
  }
 ],
 "metadata": {
  "kernelspec": {
   "display_name": "Python 3",
   "language": "python",
   "name": "python3"
  },
  "language_info": {
   "codemirror_mode": {
    "name": "ipython",
    "version": 3
   },
   "file_extension": ".py",
   "mimetype": "text/x-python",
   "name": "python",
   "nbconvert_exporter": "python",
   "pygments_lexer": "ipython3",
   "version": "3.9.13"
  }
 },
 "nbformat": 4,
 "nbformat_minor": 5
}
