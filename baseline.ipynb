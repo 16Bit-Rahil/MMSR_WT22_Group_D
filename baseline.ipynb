{
 "cells": [
  {
   "cell_type": "code",
   "execution_count": 11,
   "id": "c678f07b",
   "metadata": {},
   "outputs": [],
   "source": [
    "import numpy as np\n",
    "import pandas as pd\n",
    "import pickle"
   ]
  },
  {
   "attachments": {},
   "cell_type": "markdown",
   "id": "45493b75",
   "metadata": {},
   "source": [
    "For the basine we choose one song with only rock as a genre and give it back for every recommendation, this way we get the metrics for always predicting the most frequent genre. The chosen song is I For You by The All-American Rejects and has the id 01EKNot8qVgZpKM7."
   ]
  },
  {
   "cell_type": "code",
   "execution_count": 3,
   "id": "9f0bc47b",
   "metadata": {},
   "outputs": [],
   "source": [
    "path = '/media/sebastian/Seagate Backup Plus Drive/MMSR/task2/'\n",
    "id_information = pd.read_csv(path + 'id_information_mmsr.tsv', sep='\\t')"
   ]
  },
  {
   "cell_type": "code",
   "execution_count": 4,
   "id": "b4e5a474",
   "metadata": {},
   "outputs": [],
   "source": [
    "baseline_rec = ['01EKNot8qVgZpKM7'] * 100"
   ]
  },
  {
   "cell_type": "code",
   "execution_count": 7,
   "id": "87fdc469",
   "metadata": {},
   "outputs": [],
   "source": [
    "baseline_dict = {}\n",
    "for idx in id_information['id']:\n",
    "    baseline_dict[idx] = baseline_rec"
   ]
  },
  {
   "cell_type": "code",
   "execution_count": 12,
   "id": "28a74f89",
   "metadata": {},
   "outputs": [],
   "source": [
    "with open(path + 'baseline' + '_retrieved_ids.pkl', 'wb') as f:\n",
    "    pickle.dump(baseline_dict, f)"
   ]
  },
  {
   "cell_type": "code",
   "execution_count": 13,
   "id": "8f16fe87",
   "metadata": {},
   "outputs": [
    {
     "name": "stdout",
     "output_type": "stream",
     "text": [
      "Path of [measure]_retrieved_ids.pkl file to be evaluated: /media/sebastian/Seagate Backup Plus Drive/MMSR/task2/baseline_retrieved_ids.pkl\n",
      "Precision@10 = 0.4940487463760726 \n",
      "MRR@10 = 0.4940487463760726 \n",
      "nDCG@10 = 0.4940487463760726\n",
      "Precision@100 = 0.4940487463760726 \n",
      "MRR@100 = 0.4940487463760726 \n",
      "nDCG@100 = 0.4940487463760726\n"
     ]
    }
   ],
   "source": [
    "import evaluation"
   ]
  },
  {
   "cell_type": "code",
   "execution_count": null,
   "id": "d615b79c",
   "metadata": {},
   "outputs": [],
   "source": []
  },
  {
   "cell_type": "code",
   "execution_count": null,
   "id": "03a5bb80",
   "metadata": {},
   "outputs": [],
   "source": []
  },
  {
   "cell_type": "code",
   "execution_count": null,
   "id": "9b8f5fc1",
   "metadata": {},
   "outputs": [],
   "source": []
  }
 ],
 "metadata": {
  "kernelspec": {
   "display_name": "Python 3",
   "language": "python",
   "name": "python3"
  },
  "language_info": {
   "codemirror_mode": {
    "name": "ipython",
    "version": 3
   },
   "file_extension": ".py",
   "mimetype": "text/x-python",
   "name": "python",
   "nbconvert_exporter": "python",
   "pygments_lexer": "ipython3",
   "version": "3.9.13"
  }
 },
 "nbformat": 4,
 "nbformat_minor": 5
}
