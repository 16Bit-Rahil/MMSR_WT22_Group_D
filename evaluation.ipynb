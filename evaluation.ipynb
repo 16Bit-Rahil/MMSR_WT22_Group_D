{
 "cells": [
  {
   "cell_type": "code",
   "execution_count": 1,
   "id": "0adff471",
   "metadata": {},
   "outputs": [],
   "source": [
    "import numpy as np\n",
    "import pandas as pd\n",
    "import os\n",
    "import pickle"
   ]
  },
  {
   "cell_type": "code",
   "execution_count": 2,
   "id": "19028c47",
   "metadata": {},
   "outputs": [],
   "source": [
    "def precision(song_id:str, k:int, retrieved_dict:dict, genre_dict:dict):\n",
    "    top_k_ids = retrieved_dict[song_id][:k]\n",
    "    query_genre = genre_dict[song_id]\n",
    "    #print(query_genre)\n",
    "    tp = 0\n",
    "    for idx in top_k_ids:\n",
    "        genres = genre_dict[idx]\n",
    "        #print(genres)\n",
    "        if any(item in query_genre for item in genres):\n",
    "            tp += 1\n",
    "        #print(tp)\n",
    "    prec = tp/len(top_k_ids)\n",
    "    return prec\n",
    "\n",
    "def reciprocal_rank(song_id:str, k:int, retrieved_dict:dict, genre_dict:dict):\n",
    "    top_k_ids = retrieved_dict[song_id][:k]\n",
    "    query_genre = genre_dict[song_id]\n",
    "    k_u = 0\n",
    "    for idx, s_id in enumerate(top_k_ids):\n",
    "        genres = genre_dict[s_id]\n",
    "        #print(genres)\n",
    "        if any(item in query_genre for item in genres):\n",
    "            k_u = idx+1\n",
    "            break\n",
    "    if k_u == 0:\n",
    "        rr = 0\n",
    "    else:\n",
    "        rr = 1/k_u\n",
    "    return rr\n",
    "\n",
    "def dcg(song_id:str, k:int, retrieved_dict:dict, genre_dict:dict):    \n",
    "    top_k_ids = retrieved_dict[song_id][:k]\n",
    "    query_genre = genre_dict[song_id]\n",
    "    dcg_k = 0\n",
    "    for idx, s_id in enumerate(top_k_ids):\n",
    "        genres = genre_dict[s_id]\n",
    "        #print(genres)\n",
    "        if any(item in query_genre for item in genres):\n",
    "            rel = 1\n",
    "        else:\n",
    "            rel = 0\n",
    "        if idx == 0:\n",
    "            dcg_k += rel\n",
    "        else:\n",
    "            dcg_k += (rel/np.log2(idx+1))\n",
    "    return dcg_k\n",
    "\n",
    "def idcg(k):\n",
    "    idcg_k = 0\n",
    "    for i in range(k):\n",
    "        if i == 0:\n",
    "            idcg_k += 1\n",
    "        else:\n",
    "            idcg_k += 1/np.log2(i+1)\n",
    "    return idcg_k\n",
    "\n",
    "def ndcg(song_id:str, k:int, retrieved_dict:dict, genre_dict:dict):\n",
    "    return dcg(song_id, k, retrieved_dict, genre_dict)/idcg(k)\n",
    "\n",
    "def evaluation(retrieval_path: str, k:int=10):\n",
    "    \"\"\"\n",
    "    retrieval_path: Path to the pickled file of the retrieved top ids in dict format {ID: [ID_top1, ID_top2, ...]}\n",
    "    k: number of top k items\n",
    "    \n",
    "    Computes Precision, MRR and nDCG based on genre as relevance criterion\n",
    "    \n",
    "    returns: List of [Average Precision, MRR, Average nDCG]\n",
    "    \"\"\"\n",
    "    with open(retrieval_path, 'rb') as f:\n",
    "        retrieved_dict = pickle.load(f)\n",
    "    with open('genre_dictionary.pkl', 'rb') as f:\n",
    "        genre_dict = pickle.load(f)\n",
    "    prec_list = []\n",
    "    rr_list = []\n",
    "    ndcg_list = []\n",
    "    for song_id in retrieved_dict:\n",
    "        prec_list.append(precision(song_id, k, retrieved_dict, genre_dict))\n",
    "        rr_list.append(reciprocal_rank(song_id, k, retrieved_dict, genre_dict))\n",
    "        ndcg_list.append(ndcg(song_id, k, retrieved_dict, genre_dict))\n",
    "    lst = [sum(prec_list)/len(prec_list), sum(rr_list)/len(rr_list), sum(ndcg_list)/len(ndcg_list)]\n",
    "    return lst   "
   ]
  },
  {
   "cell_type": "code",
   "execution_count": 3,
   "id": "3db05eb4",
   "metadata": {},
   "outputs": [
    {
     "name": "stdout",
     "output_type": "stream",
     "text": [
      "[0.4950409918016379, 0.6819858250572134, 0.502635464619135]\n"
     ]
    }
   ],
   "source": [
    "print(evaluation('cosine_retrieved_ids.pkl', 10))"
   ]
  },
  {
   "cell_type": "code",
   "execution_count": null,
   "id": "0ddc86ea",
   "metadata": {},
   "outputs": [],
   "source": []
  }
 ],
 "metadata": {
  "kernelspec": {
   "display_name": "Python 3",
   "language": "python",
   "name": "python3"
  },
  "language_info": {
   "codemirror_mode": {
    "name": "ipython",
    "version": 3
   },
   "file_extension": ".py",
   "mimetype": "text/x-python",
   "name": "python",
   "nbconvert_exporter": "python",
   "pygments_lexer": "ipython3",
   "version": "3.9.7"
  }
 },
 "nbformat": 4,
 "nbformat_minor": 5
}
