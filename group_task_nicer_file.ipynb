{
 "cells": [
  {
   "cell_type": "code",
   "execution_count": 3,
   "id": "363677b1",
   "metadata": {},
   "outputs": [],
   "source": [
    "import pandas as pd\n",
    "import numpy as np\n",
    "from sklearn.metrics import jaccard_score\n",
    "from sklearn.metrics.pairwise import cosine_similarity\n",
    "from tqdm import tqdm"
   ]
  },
  {
   "cell_type": "code",
   "execution_count": 4,
   "id": "7a3ed26d",
   "metadata": {},
   "outputs": [],
   "source": [
    "id_information = pd.read_csv('id_information_mmsr.tsv', sep='\\t')\n",
    "id_genres = pd.read_csv('id_genres_mmsr.tsv', sep='\\t')\n",
    "id_bert = pd.read_csv('id_bert_mmsr.tsv', sep='\\t')\n",
    "id_lyrics_tfidf = pd.read_csv('id_lyrics_tf-idf_mmsr.tsv', sep='\\t')\n",
    "id_lyrics_word2vec = pd.read_csv('id_lyrics_word2vec_mmsr.tsv', sep='\\t')"
   ]
  },
  {
   "cell_type": "code",
   "execution_count": 5,
   "id": "fa878d70",
   "metadata": {},
   "outputs": [],
   "source": [
    "artist = 'Dua Lipa'\n",
    "song_query = 'New Rules (Initial Talk Remix)'\n",
    "#song = id_information.loc[(id_information['artist']==artist)&(id_information['song']==song_query)]"
   ]
  },
  {
   "cell_type": "code",
   "execution_count": 6,
   "id": "85832684",
   "metadata": {},
   "outputs": [],
   "source": [
    "def cosine_similarities(x, Y):\n",
    "    nx = np.linalg.norm(x)\n",
    "    nY = np.linalg.norm(Y, axis=1, keepdims=True)\n",
    "    DotP = np.dot(x, Y.T).T\n",
    "    \n",
    "    return DotP/((nx*nY)+1e-10)\n",
    "\n",
    "def search(artist:str, song_query:str, k:int=10, measure='cosine'):\n",
    "    '''\n",
    "    artist: Artist name as string\n",
    "    song_query: Song title as string\n",
    "    k: Number of Top elements, defaults to 10\n",
    "    measure: Similarity measure, [\"cosine\", \"jaccard\"], default = cosine\n",
    "    '''\n",
    "    \n",
    "    # first we get the id of the query song\n",
    "    song = id_information.loc[(id_information['artist']==artist)&(id_information['song']==song_query)]\n",
    "    query_id = song.iloc[0]['id']\n",
    "    tfidf_query = id_lyrics_tfidf.loc[id_lyrics_tfidf['id']==song.iloc[0]['id']]\n",
    "    tfidf_query = np.array(tfidf_query.drop(columns=['id']))\n",
    "    tfidf_subset = id_lyrics_tfidf.copy()\n",
    "    subset_ids = tfidf_subset[['id']].copy()\n",
    "    tfidf_no_id = np.array(tfidf_subset.drop(columns=['id']))\n",
    "    \n",
    "    # next we apply our similarity measure\n",
    "    if measure == 'cosine':\n",
    "        cosine = cosine_similarities(tfidf_query, tfidf_no_id)\n",
    "        subset_ids.insert(1,'cosine', cosine)\n",
    "    elif measure == 'jaccard':\n",
    "        tfidf_query[tfidf_query != 0.0]=1\n",
    "        tfidf_no_id[tfidf_no_id != 0.0]=1\n",
    "        scores = []\n",
    "        for row in tqdm(tfidf_no_id):\n",
    "            jaccard = jaccard_score(tfidf_query[0], row)\n",
    "            scores.append(jaccard)\n",
    "        subset_ids.insert(1,'jaccard', scores)\n",
    "\n",
    "    # then we sort our values and get the top k \n",
    "    subset_ids= subset_ids.sort_values(measure, ascending=False)\n",
    "    sorted_cosine = subset_ids.iloc[0: , :]\n",
    "    top_10 = sorted_cosine.head(10)\n",
    "    top_10_ids = np.array(top_10['id'])\n",
    "    retr = []\n",
    "    for idx in top_10_ids:\n",
    "        retr.append(id_information.loc[(id_information['id'] == idx)][['artist', 'song']])\n",
    "    return retr"
   ]
  },
  {
   "cell_type": "code",
   "execution_count": 7,
   "id": "ccbac706",
   "metadata": {},
   "outputs": [
    {
     "name": "stdout",
     "output_type": "stream",
     "text": [
      "[         artist                            song\n",
      "76113  Dua Lipa  New Rules (Initial Talk Remix),          artist                            song\n",
      "58942  Dua Lipa  New Rules - Initial Talk Remix,          artist       song\n",
      "52034  Dua Lipa  New Rules,               artist                           song\n",
      "39323  Lenny Kravitz  Let Love Rule (Justice Remix),         artist song\n",
      "42582  J. Cole  ATM,                    artist         song\n",
      "50654  Jefferson Starship  Count on Me,                 artist         song\n",
      "17479  Whitney Houston  Count On Me,           artist         song\n",
      "2424  Bruno Mars  Count on Me,         artist      song\n",
      "44737  Ramones  Commando,      artist    song\n",
      "2019   Kllo  Virtue]\n"
     ]
    }
   ],
   "source": [
    "print(search(artist, song_query, 10, 'cosine'))"
   ]
  },
  {
   "cell_type": "code",
   "execution_count": 8,
   "id": "48bf1941",
   "metadata": {},
   "outputs": [
    {
     "name": "stderr",
     "output_type": "stream",
     "text": [
      "100%|███████████████████████████████████| 76115/76115 [01:08<00:00, 1111.53it/s]\n"
     ]
    },
    {
     "name": "stdout",
     "output_type": "stream",
     "text": [
      "[         artist                            song\n",
      "58942  Dua Lipa  New Rules - Initial Talk Remix,          artist                            song\n",
      "76113  Dua Lipa  New Rules (Initial Talk Remix),          artist       song\n",
      "52034  Dua Lipa  New Rules,               artist                song\n",
      "21158  The Veronicas  Someone Wake Me Up,         artist                      song\n",
      "24861  DeBarge  Who's Holding Donna Now?,             artist                       song\n",
      "2630  Cathy Dennis  Touch Me (All Night Long),                 artist       song\n",
      "23627  Louis Tomlinson  Two of Us,             artist                                     song\n",
      "56770  Carly Simon  His Friends Are More Than Fond Of Robin,                artist             song\n",
      "55945  Jennifer Lopez  Never Satisfied,            artist      song\n",
      "22235  Delegation  Oh Honey]\n"
     ]
    }
   ],
   "source": [
    "print(search(artist, song_query, 10, 'jaccard'))"
   ]
  },
  {
   "cell_type": "code",
   "execution_count": 9,
   "id": "ab6def9b",
   "metadata": {},
   "outputs": [],
   "source": [
    "cosine_scores = pd.DataFrame(id_information['id'].copy())"
   ]
  },
  {
   "cell_type": "code",
   "execution_count": 11,
   "id": "ae1ba926",
   "metadata": {},
   "outputs": [
    {
     "name": "stderr",
     "output_type": "stream",
     "text": [
      "  0%|                                      | 64/76115 [00:11<3:42:11,  5.70it/s]\n"
     ]
    },
    {
     "ename": "KeyboardInterrupt",
     "evalue": "",
     "output_type": "error",
     "traceback": [
      "\u001b[0;31m---------------------------------------------------------------------------\u001b[0m",
      "\u001b[0;31mKeyboardInterrupt\u001b[0m                         Traceback (most recent call last)",
      "Input \u001b[0;32mIn [11]\u001b[0m, in \u001b[0;36m<cell line: 5>\u001b[0;34m()\u001b[0m\n\u001b[1;32m      6\u001b[0m tfidf_query \u001b[38;5;241m=\u001b[39m id_lyrics_tfidf\u001b[38;5;241m.\u001b[39mloc[id_lyrics_tfidf[\u001b[38;5;124m'\u001b[39m\u001b[38;5;124mid\u001b[39m\u001b[38;5;124m'\u001b[39m]\u001b[38;5;241m==\u001b[39mquery_id]\n\u001b[1;32m      7\u001b[0m tfidf_query \u001b[38;5;241m=\u001b[39m np\u001b[38;5;241m.\u001b[39marray(tfidf_query\u001b[38;5;241m.\u001b[39mdrop(columns\u001b[38;5;241m=\u001b[39m[\u001b[38;5;124m'\u001b[39m\u001b[38;5;124mid\u001b[39m\u001b[38;5;124m'\u001b[39m]))\n\u001b[0;32m----> 8\u001b[0m cosine \u001b[38;5;241m=\u001b[39m \u001b[43mcosine_similarities\u001b[49m\u001b[43m(\u001b[49m\u001b[43mtfidf_query\u001b[49m\u001b[43m,\u001b[49m\u001b[43m \u001b[49m\u001b[43mtfidf_no_id\u001b[49m\u001b[43m)\u001b[49m\n\u001b[1;32m      9\u001b[0m subset_ids \u001b[38;5;241m=\u001b[39m subset_ids\u001b[38;5;241m.\u001b[39mcopy()\n\u001b[1;32m     10\u001b[0m subset_ids\u001b[38;5;241m.\u001b[39minsert(idx, \u001b[38;5;28mstr\u001b[39m(query_id), cosine)\n",
      "Input \u001b[0;32mIn [6]\u001b[0m, in \u001b[0;36mcosine_similarities\u001b[0;34m(x, Y)\u001b[0m\n\u001b[1;32m      1\u001b[0m \u001b[38;5;28;01mdef\u001b[39;00m \u001b[38;5;21mcosine_similarities\u001b[39m(x, Y):\n\u001b[1;32m      2\u001b[0m     nx \u001b[38;5;241m=\u001b[39m np\u001b[38;5;241m.\u001b[39mlinalg\u001b[38;5;241m.\u001b[39mnorm(x)\n\u001b[0;32m----> 3\u001b[0m     nY \u001b[38;5;241m=\u001b[39m \u001b[43mnp\u001b[49m\u001b[38;5;241;43m.\u001b[39;49m\u001b[43mlinalg\u001b[49m\u001b[38;5;241;43m.\u001b[39;49m\u001b[43mnorm\u001b[49m\u001b[43m(\u001b[49m\u001b[43mY\u001b[49m\u001b[43m,\u001b[49m\u001b[43m \u001b[49m\u001b[43maxis\u001b[49m\u001b[38;5;241;43m=\u001b[39;49m\u001b[38;5;241;43m1\u001b[39;49m\u001b[43m,\u001b[49m\u001b[43m \u001b[49m\u001b[43mkeepdims\u001b[49m\u001b[38;5;241;43m=\u001b[39;49m\u001b[38;5;28;43;01mTrue\u001b[39;49;00m\u001b[43m)\u001b[49m\n\u001b[1;32m      4\u001b[0m     DotP \u001b[38;5;241m=\u001b[39m np\u001b[38;5;241m.\u001b[39mdot(x, Y\u001b[38;5;241m.\u001b[39mT)\u001b[38;5;241m.\u001b[39mT\n\u001b[1;32m      6\u001b[0m     \u001b[38;5;28;01mreturn\u001b[39;00m DotP\u001b[38;5;241m/\u001b[39m((nx\u001b[38;5;241m*\u001b[39mnY)\u001b[38;5;241m+\u001b[39m\u001b[38;5;241m1e-10\u001b[39m)\n",
      "File \u001b[0;32m<__array_function__ internals>:180\u001b[0m, in \u001b[0;36mnorm\u001b[0;34m(*args, **kwargs)\u001b[0m\n",
      "File \u001b[0;32m~/miniconda3/envs/reex/lib/python3.9/site-packages/numpy/linalg/linalg.py:2556\u001b[0m, in \u001b[0;36mnorm\u001b[0;34m(x, ord, axis, keepdims)\u001b[0m\n\u001b[1;32m   2553\u001b[0m     \u001b[38;5;28;01mreturn\u001b[39;00m add\u001b[38;5;241m.\u001b[39mreduce(\u001b[38;5;28mabs\u001b[39m(x), axis\u001b[38;5;241m=\u001b[39maxis, keepdims\u001b[38;5;241m=\u001b[39mkeepdims)\n\u001b[1;32m   2554\u001b[0m \u001b[38;5;28;01melif\u001b[39;00m \u001b[38;5;28mord\u001b[39m \u001b[38;5;129;01mis\u001b[39;00m \u001b[38;5;28;01mNone\u001b[39;00m \u001b[38;5;129;01mor\u001b[39;00m \u001b[38;5;28mord\u001b[39m \u001b[38;5;241m==\u001b[39m \u001b[38;5;241m2\u001b[39m:\n\u001b[1;32m   2555\u001b[0m     \u001b[38;5;66;03m# special case for speedup\u001b[39;00m\n\u001b[0;32m-> 2556\u001b[0m     s \u001b[38;5;241m=\u001b[39m (\u001b[43mx\u001b[49m\u001b[38;5;241;43m.\u001b[39;49m\u001b[43mconj\u001b[49m\u001b[43m(\u001b[49m\u001b[43m)\u001b[49m\u001b[43m \u001b[49m\u001b[38;5;241;43m*\u001b[39;49m\u001b[43m \u001b[49m\u001b[43mx\u001b[49m)\u001b[38;5;241m.\u001b[39mreal\n\u001b[1;32m   2557\u001b[0m     \u001b[38;5;28;01mreturn\u001b[39;00m sqrt(add\u001b[38;5;241m.\u001b[39mreduce(s, axis\u001b[38;5;241m=\u001b[39maxis, keepdims\u001b[38;5;241m=\u001b[39mkeepdims))\n\u001b[1;32m   2558\u001b[0m \u001b[38;5;66;03m# None of the str-type keywords for ord ('fro', 'nuc')\u001b[39;00m\n\u001b[1;32m   2559\u001b[0m \u001b[38;5;66;03m# are valid for vectors\u001b[39;00m\n",
      "\u001b[0;31mKeyboardInterrupt\u001b[0m: "
     ]
    }
   ],
   "source": [
    "idx = 1       \n",
    "tfidf_subset = id_lyrics_tfidf.copy() \n",
    "subset_ids = tfidf_subset[['id']].copy()    \n",
    "tfidf_no_id = np.array(tfidf_subset.drop(columns=['id']))\n",
    "for query_id in tqdm(cosine_scores['id']):\n",
    "    tfidf_query = id_lyrics_tfidf.loc[id_lyrics_tfidf['id']==query_id]\n",
    "    tfidf_query = np.array(tfidf_query.drop(columns=['id']))\n",
    "    cosine = cosine_similarities(tfidf_query, tfidf_no_id)\n",
    "    subset_ids = subset_ids.copy()\n",
    "    subset_ids.insert(idx, str(query_id), cosine)\n",
    "    idx += 1\n",
    "    \n",
    "# versuch war dass für jede id de cosine similarity mit jeder id berechnet wird und in einer riesigen datei\n",
    "# gespeichert wird. Dauert halt leider ewig.\n",
    "# Mögliche lösung wäre die similarity von 2 songs gleich für beide songs zu speichern nur weiß ich grade nicht\n",
    "# wie ich das effizient in einem pandas dataframe mache, (maybe als numpy array erstellen und dann unformen aber \n",
    "# dabei müss ma halt auf die indices achten) weil wir brauchen dann eben ein dataframe wo die columns auch die id namen haben\n",
    "# ich hoffe das macht sinn... "
   ]
  },
  {
   "cell_type": "code",
   "execution_count": 2,
   "id": "b4fe0330",
   "metadata": {},
   "outputs": [],
   "source": [
    "def csm(A,B):\n",
    "    num=np.dot(A,B.T)\n",
    "    p1=np.sqrt(np.sum(A**2,axis=1))[:,np.newaxis]\n",
    "    p2=np.sqrt(np.sum(B**2,axis=1))[np.newaxis,:]\n",
    "    return num/(p1*p2)\n",
    "\n",
    "# Funktion zum berechnen der Cosine similarity matrix von 2 matrixes, leider ist tfidf_no_id zu groß,\n",
    "# vielleicht mit bert oder so, ist glaub ich kleiner, aber frage ist ob da cosine similarity funktioniert\n",
    "# kenn mich mit bert embeddings leider zu wenig aus (mit word2vec funktioniert cosine auf jeden fall)"
   ]
  },
  {
   "cell_type": "code",
   "execution_count": null,
   "id": "427fcac2",
   "metadata": {},
   "outputs": [],
   "source": []
  }
 ],
 "metadata": {
  "kernelspec": {
   "display_name": "Python 3",
   "language": "python",
   "name": "python3"
  },
  "language_info": {
   "codemirror_mode": {
    "name": "ipython",
    "version": 3
   },
   "file_extension": ".py",
   "mimetype": "text/x-python",
   "name": "python",
   "nbconvert_exporter": "python",
   "pygments_lexer": "ipython3",
   "version": "3.9.7"
  }
 },
 "nbformat": 4,
 "nbformat_minor": 5
}
