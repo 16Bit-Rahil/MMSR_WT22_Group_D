{
 "cells": [
  {
   "cell_type": "code",
   "execution_count": 50,
   "id": "cbdc8beb-d991-44c0-a829-23c209cadd95",
   "metadata": {},
   "outputs": [],
   "source": [
    "import pandas as pd\n",
    "from statistics import mean"
   ]
  },
  {
   "cell_type": "code",
   "execution_count": 51,
   "id": "10aed7eb-c1bc-4ab7-a605-c853d3512ef3",
   "metadata": {},
   "outputs": [
    {
     "data": {
      "text/html": [
       "<div>\n",
       "<style scoped>\n",
       "    .dataframe tbody tr th:only-of-type {\n",
       "        vertical-align: middle;\n",
       "    }\n",
       "\n",
       "    .dataframe tbody tr th {\n",
       "        vertical-align: top;\n",
       "    }\n",
       "\n",
       "    .dataframe thead th {\n",
       "        text-align: right;\n",
       "    }\n",
       "</style>\n",
       "<table border=\"1\" class=\"dataframe\">\n",
       "  <thead>\n",
       "    <tr style=\"text-align: right;\">\n",
       "      <th></th>\n",
       "      <th>id</th>\n",
       "      <th>spotify_id</th>\n",
       "      <th>popularity</th>\n",
       "      <th>release</th>\n",
       "      <th>danceability</th>\n",
       "      <th>energy</th>\n",
       "      <th>key</th>\n",
       "      <th>mode</th>\n",
       "      <th>valence</th>\n",
       "      <th>tempo</th>\n",
       "      <th>duration_ms</th>\n",
       "    </tr>\n",
       "  </thead>\n",
       "  <tbody>\n",
       "    <tr>\n",
       "      <th>0</th>\n",
       "      <td>0009fFIM1eYThaPg</td>\n",
       "      <td>3eObKIfHKJ1nAPh0wTxFCc</td>\n",
       "      <td>12.0</td>\n",
       "      <td>2009</td>\n",
       "      <td>0.635</td>\n",
       "      <td>0.746</td>\n",
       "      <td>6.0</td>\n",
       "      <td>1.0</td>\n",
       "      <td>0.548</td>\n",
       "      <td>110.973</td>\n",
       "      <td>229947</td>\n",
       "    </tr>\n",
       "    <tr>\n",
       "      <th>1</th>\n",
       "      <td>0010xmHR6UICBOYT</td>\n",
       "      <td>27szvF97Tu95GxN98N52fy</td>\n",
       "      <td>46.0</td>\n",
       "      <td>2013</td>\n",
       "      <td>0.591</td>\n",
       "      <td>0.513</td>\n",
       "      <td>7.0</td>\n",
       "      <td>0.0</td>\n",
       "      <td>0.263</td>\n",
       "      <td>172.208</td>\n",
       "      <td>325096</td>\n",
       "    </tr>\n",
       "    <tr>\n",
       "      <th>2</th>\n",
       "      <td>002Jyd0vN4HyCpqL</td>\n",
       "      <td>273lBFpxUCwisTpdnF9cVb</td>\n",
       "      <td>31.0</td>\n",
       "      <td>1974</td>\n",
       "      <td>0.319</td>\n",
       "      <td>0.925</td>\n",
       "      <td>2.0</td>\n",
       "      <td>1.0</td>\n",
       "      <td>0.658</td>\n",
       "      <td>157.630</td>\n",
       "      <td>285693</td>\n",
       "    </tr>\n",
       "  </tbody>\n",
       "</table>\n",
       "</div>"
      ],
      "text/plain": [
       "                 id              spotify_id  popularity  release  \\\n",
       "0  0009fFIM1eYThaPg  3eObKIfHKJ1nAPh0wTxFCc        12.0     2009   \n",
       "1  0010xmHR6UICBOYT  27szvF97Tu95GxN98N52fy        46.0     2013   \n",
       "2  002Jyd0vN4HyCpqL  273lBFpxUCwisTpdnF9cVb        31.0     1974   \n",
       "\n",
       "   danceability  energy  key  mode  valence    tempo  duration_ms  \n",
       "0         0.635   0.746  6.0   1.0    0.548  110.973       229947  \n",
       "1         0.591   0.513  7.0   0.0    0.263  172.208       325096  \n",
       "2         0.319   0.925  2.0   1.0    0.658  157.630       285693  "
      ]
     },
     "execution_count": 51,
     "metadata": {},
     "output_type": "execute_result"
    }
   ],
   "source": [
    "path = '../dataset/'\n",
    "id_metadata = pd.read_csv(path + 'id_metadata_mmsr.tsv', sep='\\t')\n",
    "id_metadata"
   ]
  },
  {
   "cell_type": "code",
   "execution_count": 52,
   "id": "5a0e8188-c1fe-41ae-be2b-07d55a42908f",
   "metadata": {},
   "outputs": [
    {
     "data": {
      "text/html": [
       "<div>\n",
       "<style scoped>\n",
       "    .dataframe tbody tr th:only-of-type {\n",
       "        vertical-align: middle;\n",
       "    }\n",
       "\n",
       "    .dataframe tbody tr th {\n",
       "        vertical-align: top;\n",
       "    }\n",
       "\n",
       "    .dataframe thead th {\n",
       "        text-align: right;\n",
       "    }\n",
       "</style>\n",
       "<table border=\"1\" class=\"dataframe\">\n",
       "  <thead>\n",
       "    <tr style=\"text-align: right;\">\n",
       "      <th></th>\n",
       "      <th>id</th>\n",
       "      <th>spotify_id</th>\n",
       "      <th>popularity</th>\n",
       "    </tr>\n",
       "  </thead>\n",
       "  <tbody>\n",
       "    <tr>\n",
       "      <th>0</th>\n",
       "      <td>0009fFIM1eYThaPg</td>\n",
       "      <td>3eObKIfHKJ1nAPh0wTxFCc</td>\n",
       "      <td>12.0</td>\n",
       "    </tr>\n",
       "    <tr>\n",
       "      <th>1</th>\n",
       "      <td>0010xmHR6UICBOYT</td>\n",
       "      <td>27szvF97Tu95GxN98N52fy</td>\n",
       "      <td>46.0</td>\n",
       "    </tr>\n",
       "    <tr>\n",
       "      <th>2</th>\n",
       "      <td>002Jyd0vN4HyCpqL</td>\n",
       "      <td>273lBFpxUCwisTpdnF9cVb</td>\n",
       "      <td>31.0</td>\n",
       "    </tr>\n",
       "  </tbody>\n",
       "</table>\n",
       "</div>"
      ],
      "text/plain": [
       "                 id              spotify_id  popularity\n",
       "0  0009fFIM1eYThaPg  3eObKIfHKJ1nAPh0wTxFCc        12.0\n",
       "1  0010xmHR6UICBOYT  27szvF97Tu95GxN98N52fy        46.0\n",
       "2  002Jyd0vN4HyCpqL  273lBFpxUCwisTpdnF9cVb        31.0"
      ]
     },
     "execution_count": 52,
     "metadata": {},
     "output_type": "execute_result"
    }
   ],
   "source": [
    "meta = id_metadata.drop(id_metadata.iloc[:,3:11],axis=1)\n",
    "meta"
   ]
  },
  {
   "cell_type": "code",
   "execution_count": 53,
   "id": "d03d509c-8c5d-4174-ad0b-b93b491c279d",
   "metadata": {},
   "outputs": [
    {
     "data": {
      "text/plain": [
       "29.666666666666668"
      ]
     },
     "execution_count": 53,
     "metadata": {},
     "output_type": "execute_result"
    }
   ],
   "source": [
    "mean_pop = meta[\"popularity\"].mean()\n",
    "mean_pop"
   ]
  },
  {
   "cell_type": "code",
   "execution_count": 54,
   "id": "4dfb4039-8146-4ab4-87a5-a5ef276d06aa",
   "metadata": {},
   "outputs": [
    {
     "data": {
      "text/html": [
       "<div>\n",
       "<style scoped>\n",
       "    .dataframe tbody tr th:only-of-type {\n",
       "        vertical-align: middle;\n",
       "    }\n",
       "\n",
       "    .dataframe tbody tr th {\n",
       "        vertical-align: top;\n",
       "    }\n",
       "\n",
       "    .dataframe thead th {\n",
       "        text-align: right;\n",
       "    }\n",
       "</style>\n",
       "<table border=\"1\" class=\"dataframe\">\n",
       "  <thead>\n",
       "    <tr style=\"text-align: right;\">\n",
       "      <th></th>\n",
       "      <th>id</th>\n",
       "      <th>spotify_id</th>\n",
       "      <th>popularity</th>\n",
       "      <th>mean(q)</th>\n",
       "    </tr>\n",
       "  </thead>\n",
       "  <tbody>\n",
       "    <tr>\n",
       "      <th>0</th>\n",
       "      <td>0009fFIM1eYThaPg</td>\n",
       "      <td>3eObKIfHKJ1nAPh0wTxFCc</td>\n",
       "      <td>12.0</td>\n",
       "      <td></td>\n",
       "    </tr>\n",
       "    <tr>\n",
       "      <th>1</th>\n",
       "      <td>0010xmHR6UICBOYT</td>\n",
       "      <td>27szvF97Tu95GxN98N52fy</td>\n",
       "      <td>46.0</td>\n",
       "      <td></td>\n",
       "    </tr>\n",
       "    <tr>\n",
       "      <th>2</th>\n",
       "      <td>002Jyd0vN4HyCpqL</td>\n",
       "      <td>273lBFpxUCwisTpdnF9cVb</td>\n",
       "      <td>31.0</td>\n",
       "      <td></td>\n",
       "    </tr>\n",
       "  </tbody>\n",
       "</table>\n",
       "</div>"
      ],
      "text/plain": [
       "                 id              spotify_id  popularity mean(q)\n",
       "0  0009fFIM1eYThaPg  3eObKIfHKJ1nAPh0wTxFCc        12.0        \n",
       "1  0010xmHR6UICBOYT  27szvF97Tu95GxN98N52fy        46.0        \n",
       "2  002Jyd0vN4HyCpqL  273lBFpxUCwisTpdnF9cVb        31.0        "
      ]
     },
     "execution_count": 54,
     "metadata": {},
     "output_type": "execute_result"
    }
   ],
   "source": [
    "meta['mean(q)'] = \"\"\n",
    "meta"
   ]
  },
  {
   "cell_type": "code",
   "execution_count": 55,
   "id": "9f3ff087-a5a4-4f2d-9507-5eeb445e61b6",
   "metadata": {},
   "outputs": [
    {
     "name": "stderr",
     "output_type": "stream",
     "text": [
      "C:\\Users\\bbo.reb\\AppData\\Local\\Temp\\ipykernel_21464\\2436546855.py:4: SettingWithCopyWarning: \n",
      "A value is trying to be set on a copy of a slice from a DataFrame\n",
      "\n",
      "See the caveats in the documentation: https://pandas.pydata.org/pandas-docs/stable/user_guide/indexing.html#returning-a-view-versus-a-copy\n",
      "  meta['mean(q)'][index] = mean_q\n"
     ]
    }
   ],
   "source": [
    "for index in meta.index:\n",
    "    pop_q = meta['popularity'][index]\n",
    "    mean_q = (mean_pop - pop_q)/pop_q\n",
    "    meta['mean(q)'][index] = mean_q\n",
    "    "
   ]
  },
  {
   "cell_type": "code",
   "execution_count": 56,
   "id": "e18b4d82-89ed-46c1-8f24-1f052654e2e4",
   "metadata": {},
   "outputs": [
    {
     "data": {
      "text/html": [
       "<div>\n",
       "<style scoped>\n",
       "    .dataframe tbody tr th:only-of-type {\n",
       "        vertical-align: middle;\n",
       "    }\n",
       "\n",
       "    .dataframe tbody tr th {\n",
       "        vertical-align: top;\n",
       "    }\n",
       "\n",
       "    .dataframe thead th {\n",
       "        text-align: right;\n",
       "    }\n",
       "</style>\n",
       "<table border=\"1\" class=\"dataframe\">\n",
       "  <thead>\n",
       "    <tr style=\"text-align: right;\">\n",
       "      <th></th>\n",
       "      <th>id</th>\n",
       "      <th>spotify_id</th>\n",
       "      <th>popularity</th>\n",
       "      <th>mean(q)</th>\n",
       "    </tr>\n",
       "  </thead>\n",
       "  <tbody>\n",
       "    <tr>\n",
       "      <th>0</th>\n",
       "      <td>0009fFIM1eYThaPg</td>\n",
       "      <td>3eObKIfHKJ1nAPh0wTxFCc</td>\n",
       "      <td>12.0</td>\n",
       "      <td>1.472222</td>\n",
       "    </tr>\n",
       "    <tr>\n",
       "      <th>1</th>\n",
       "      <td>0010xmHR6UICBOYT</td>\n",
       "      <td>27szvF97Tu95GxN98N52fy</td>\n",
       "      <td>46.0</td>\n",
       "      <td>-0.355072</td>\n",
       "    </tr>\n",
       "    <tr>\n",
       "      <th>2</th>\n",
       "      <td>002Jyd0vN4HyCpqL</td>\n",
       "      <td>273lBFpxUCwisTpdnF9cVb</td>\n",
       "      <td>31.0</td>\n",
       "      <td>-0.043011</td>\n",
       "    </tr>\n",
       "  </tbody>\n",
       "</table>\n",
       "</div>"
      ],
      "text/plain": [
       "                 id              spotify_id  popularity   mean(q)\n",
       "0  0009fFIM1eYThaPg  3eObKIfHKJ1nAPh0wTxFCc        12.0  1.472222\n",
       "1  0010xmHR6UICBOYT  27szvF97Tu95GxN98N52fy        46.0 -0.355072\n",
       "2  002Jyd0vN4HyCpqL  273lBFpxUCwisTpdnF9cVb        31.0 -0.043011"
      ]
     },
     "execution_count": 56,
     "metadata": {},
     "output_type": "execute_result"
    }
   ],
   "source": [
    "meta"
   ]
  },
  {
   "cell_type": "code",
   "execution_count": 57,
   "id": "6f7d1861-ea63-47be-8bf6-207f44dda230",
   "metadata": {},
   "outputs": [
    {
     "data": {
      "text/plain": [
       "-0.043010752688172005"
      ]
     },
     "execution_count": 57,
     "metadata": {},
     "output_type": "execute_result"
    }
   ],
   "source": [
    "median = meta[\"mean(q)\"].median()\n",
    "median"
   ]
  },
  {
   "cell_type": "code",
   "execution_count": null,
   "id": "395ee5a8-1985-4873-bfe7-aca3cdaf552a",
   "metadata": {},
   "outputs": [],
   "source": []
  }
 ],
 "metadata": {
  "kernelspec": {
   "display_name": "Python 3 (ipykernel)",
   "language": "python",
   "name": "python3"
  },
  "language_info": {
   "codemirror_mode": {
    "name": "ipython",
    "version": 3
   },
   "file_extension": ".py",
   "mimetype": "text/x-python",
   "name": "python",
   "nbconvert_exporter": "python",
   "pygments_lexer": "ipython3",
   "version": "3.8.13"
  }
 },
 "nbformat": 4,
 "nbformat_minor": 5
}
