{
 "cells": [
  {
   "cell_type": "code",
   "execution_count": 21,
   "id": "cbdc8beb-d991-44c0-a829-23c209cadd95",
   "metadata": {},
   "outputs": [],
   "source": [
    "import pandas as pd\n",
    "import numpy as np\n",
    "from statistics import mean\n",
    "\n",
    "pd.set_option('chained_assignment',None)"
   ]
  },
  {
   "cell_type": "code",
   "execution_count": 22,
   "id": "10aed7eb-c1bc-4ab7-a605-c853d3512ef3",
   "metadata": {},
   "outputs": [],
   "source": [
    "path = './dataset/'\n",
    "id_metadata = pd.read_csv(path + 'id_metadata_mmsr.tsv', sep='\\t')\n",
    "simple_borda = pd.read_csv(path + 'simple_borda.csv', sep=',')"
   ]
  },
  {
   "cell_type": "code",
   "execution_count": 23,
   "id": "5a0e8188-c1fe-41ae-be2b-07d55a42908f",
   "metadata": {},
   "outputs": [],
   "source": [
    "meta = id_metadata.drop(id_metadata.iloc[:,3:11],axis=1)\n",
    "meta = meta.drop('spotify_id',axis=1)"
   ]
  },
  {
   "cell_type": "code",
   "execution_count": 24,
   "id": "69ef5947-af2d-438d-add1-c697e85525ad",
   "metadata": {},
   "outputs": [],
   "source": [
    "result = meta[['id']].copy()\n",
    "result['mean_k10'] = \"\"\n",
    "result['mean_k100'] = \"\""
   ]
  },
  {
   "cell_type": "code",
   "execution_count": null,
   "id": "46c3ad0c-d603-4636-9bd7-7b65635f06ab",
   "metadata": {},
   "outputs": [],
   "source": [
    "def calc_popularity(idx, top_k_data):\n",
    "    top_k_data = top_k_data.T\n",
    "    top_k_data.rename(columns = {idx:'id'}, inplace = True)\n",
    "    top_k_data = pd.merge(top_k_data,meta,on=\"id\", how = \"left\")\n",
    "    \n",
    "    pop_q = meta['popularity'][idx]\n",
    "    mean_pop = top_k_data[\"popularity\"].mean()    \n",
    "\n",
    "    for index in top_k_data.index:\n",
    "        mean_q = (mean_pop - pop_q)/pop_q\n",
    "\n",
    "    result['mean_k' + str(len(top_k_data.index))][idx] = mean_q\n",
    "\n",
    "\n",
    "for idx in meta.index:\n",
    "    #map popularity to top 10 songs\n",
    "    pop_k100 = simple_borda[simple_borda['Unnamed: 0'] == meta['id'][idx]]\n",
    "    #drop query\n",
    "    pop_k100 = pop_k100.iloc[:,1:]\n",
    "    #only keep first 10 rows\n",
    "    pop_k10 = pop_k100.iloc[:,0:10]\n",
    "\n",
    "    \n",
    "\n",
    "    calc_popularity(idx, pop_k10)\n",
    "    calc_popularity(idx, pop_k100)"
   ]
  },
  {
   "cell_type": "code",
   "execution_count": null,
   "id": "78ca0a78-418b-42d6-b637-fcb4312b166a",
   "metadata": {},
   "outputs": [],
   "source": [
    "result"
   ]
  },
  {
   "cell_type": "code",
   "execution_count": null,
   "id": "395ee5a8-1985-4873-bfe7-aca3cdaf552a",
   "metadata": {},
   "outputs": [],
   "source": [
    "result.to_csv('./popularity_k10_k100_simple_borda_corrected.csv')"
   ]
  }
 ],
 "metadata": {
  "kernelspec": {
   "display_name": "Python 3 (ipykernel)",
   "language": "python",
   "name": "python3"
  },
  "language_info": {
   "codemirror_mode": {
    "name": "ipython",
    "version": 3
   },
   "file_extension": ".py",
   "mimetype": "text/x-python",
   "name": "python",
   "nbconvert_exporter": "python",
   "pygments_lexer": "ipython3",
   "version": "3.8.13"
  }
 },
 "nbformat": 4,
 "nbformat_minor": 5
}
